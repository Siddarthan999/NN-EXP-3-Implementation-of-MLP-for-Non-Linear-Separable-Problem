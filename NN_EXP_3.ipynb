{
  "nbformat": 4,
  "nbformat_minor": 0,
  "metadata": {
    "colab": {
      "provenance": []
    },
    "kernelspec": {
      "name": "python3",
      "display_name": "Python 3"
    },
    "language_info": {
      "name": "python"
    }
  },
  "cells": [
    {
      "cell_type": "code",
      "execution_count": 4,
      "metadata": {
        "colab": {
          "base_uri": "https://localhost:8080/"
        },
        "id": "w1U9ToEBwWEu",
        "outputId": "557744c1-8cd0-4ccc-9fcd-362816d0ba64"
      },
      "outputs": [
        {
          "output_type": "stream",
          "name": "stdout",
          "text": [
            "Input: [0 0], Predicted Output: [0.258014]\n",
            "Input: [0 1], Predicted Output: [0.69172371]\n",
            "Input: [1 0], Predicted Output: [0.68877368]\n",
            "Input: [1 1], Predicted Output: [0.38875897]\n",
            "Final weights (input to hidden):\n",
            " [[0.76821745 5.19601006]\n",
            " [0.75800259 5.03647995]]\n",
            "Final weights (hidden to output):\n",
            " [[-9.2992654 ]\n",
            " [ 7.18663238]]\n"
          ]
        }
      ],
      "source": [
        "import numpy as np\n",
        "\n",
        "# Step 1: Initialize input patterns for XOR Gate\n",
        "X = np.array([[0, 0], [0, 1], [1, 0], [1, 1]])\n",
        "\n",
        "# Step 2: Initialize the desired output of the XOR Gate\n",
        "Y = np.array([0, 1, 1, 0])\n",
        "\n",
        "# Step 3: Initialize the weights for the 2-layer MLP with 2 Hidden neurons and 1 output neuron\n",
        "input_size = 2\n",
        "hidden_size = 2\n",
        "output_size = 1\n",
        "\n",
        "# Initialize weights randomly with small values\n",
        "weights_input_hidden = np.random.rand(input_size, hidden_size)\n",
        "weights_hidden_output = np.random.rand(hidden_size, output_size)\n",
        "\n",
        "# Learning rate for weight updates\n",
        "learning_rate = 0.1\n",
        "\n",
        "# Number of training iterations\n",
        "num_epochs = 10000\n",
        "\n",
        "losses = []\n",
        "\n",
        "# Step 3: Training the MLP\n",
        "for epoch in range(num_epochs):\n",
        "    total_error = 0\n",
        "\n",
        "    for i in range(len(X)):\n",
        "        # (i) Compute the output using forward pass\n",
        "        input_layer = X[i]\n",
        "        hidden_layer_input = np.dot(input_layer, weights_input_hidden)\n",
        "        hidden_layer_output = 1 / (1 + np.exp(-hidden_layer_input))\n",
        "\n",
        "        output_layer_input = np.dot(hidden_layer_output, weights_hidden_output)\n",
        "        output_layer_output = 1 / (1 + np.exp(-output_layer_input))\n",
        "\n",
        "        # (ii) Compute the error\n",
        "        error = Y[i] - output_layer_output\n",
        "        total_error += error ** 2\n",
        "\n",
        "        # (iii) Compute the change in weights 'dw' using backward propagation\n",
        "        delta_output = error * output_layer_output * (1 - output_layer_output)\n",
        "        delta_hidden = delta_output.dot(weights_hidden_output.T) * \\\n",
        "            hidden_layer_output * (1 - hidden_layer_output)\n",
        "\n",
        "        # (iv) Modify the weights using the delta rule\n",
        "        weights_hidden_output += hidden_layer_output.reshape(-1, 1) * delta_output * learning_rate\n",
        "        weights_input_hidden += input_layer.reshape(-1, 1) * delta_hidden * learning_rate\n",
        "\n",
        "    # (v) Append the losses in a list\n",
        "    losses.append(total_error)\n",
        "\n",
        "# Step 4: Testing the XOR patterns\n",
        "for i in range(len(X)):\n",
        "    input_layer = X[i]\n",
        "    hidden_layer_input = np.dot(input_layer, weights_input_hidden)\n",
        "    hidden_layer_output = 1 / (1 + np.exp(-hidden_layer_input))\n",
        "\n",
        "    output_layer_input = np.dot(hidden_layer_output, weights_hidden_output)\n",
        "    predicted_output = 1 / (1 + np.exp(-output_layer_input))\n",
        "\n",
        "    print(f\"Input: {input_layer}, Predicted Output: {predicted_output}\")\n",
        "\n",
        "# Print the final weights\n",
        "print(\"Final weights (input to hidden):\\n\", weights_input_hidden)\n",
        "print(\"Final weights (hidden to output):\\n\", weights_hidden_output)\n"
      ]
    }
  ]
}